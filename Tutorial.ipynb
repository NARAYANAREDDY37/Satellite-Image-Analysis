{
 "cells": [
  {
   "cell_type": "code",
   "execution_count": null,
   "metadata": {},
   "outputs": [],
   "source": [
    "#import required libraries\n",
    "import rasterio\n",
    "from rasterio import plot\n",
    "import matplotlib.pyplot as plt\n",
    "%matplotlib inline"
   ]
  },
  {
   "cell_type": "code",
   "execution_count": null,
   "metadata": {},
   "outputs": [],
   "source": [
    "#import bands as separate 1 band raster\n",
    "imagePath = '../Sentinel2/GRANULE/L1C_T11SKB_A007675_20180825T184430/IMG_DATA/'\n",
    "band2 = rasterio.open(imagePath+'T11SKB_20180825T183909_B02.jp2', driver='JP2OpenJPEG') #blue\n",
    "band3 = rasterio.open(imagePath+'T11SKB_20180825T183909_B03.jp2', driver='JP2OpenJPEG') #green\n",
    "band4 = rasterio.open(imagePath+'T11SKB_20180825T183909_B04.jp2', driver='JP2OpenJPEG') #red\n",
    "band8 = rasterio.open(imagePath+'T11SKB_20180825T183909_B08.jp2', driver='JP2OpenJPEG') #nir"
   ]
  },
  {
   "cell_type": "code",
   "execution_count": null,
   "metadata": {},
   "outputs": [],
   "source": [
    "#number of raster bands\n",
    "band4.count"
   ]
  },
  {
   "cell_type": "code",
   "execution_count": null,
   "metadata": {},
   "outputs": [],
   "source": [
    "#number of raster columns\n",
    "band4.width"
   ]
  },
  {
   "cell_type": "code",
   "execution_count": null,
   "metadata": {},
   "outputs": [],
   "source": [
    "#number of raster rows\n",
    "band4.height"
   ]
  },
  {
   "cell_type": "code",
   "execution_count": null,
   "metadata": {},
   "outputs": [],
   "source": [
    "#plot band \n",
    "plot.show(band4)"
   ]
  },
  {
   "cell_type": "code",
   "execution_count": null,
   "metadata": {},
   "outputs": [],
   "source": [
    "#type of raster byte\n",
    "band4.dtypes[0]"
   ]
  },
  {
   "cell_type": "code",
   "execution_count": null,
   "metadata": {},
   "outputs": [],
   "source": [
    "#raster sytem of reference\n",
    "band4.crs"
   ]
  },
  {
   "cell_type": "code",
   "execution_count": null,
   "metadata": {},
   "outputs": [],
   "source": [
    "#raster transform parameters\n",
    "band4.transform"
   ]
  },
  {
   "cell_type": "code",
   "execution_count": null,
   "metadata": {},
   "outputs": [],
   "source": [
    "#raster values as matrix array\n",
    "band4.read(1)"
   ]
  },
  {
   "cell_type": "code",
   "execution_count": null,
   "metadata": {},
   "outputs": [],
   "source": [
    "#multiple band representation\n",
    "fig, (ax1, ax2, ax3) = plt.subplots(1, 3, figsize=(12, 4))\n",
    "plot.show(band2, ax=ax1, cmap='Blues')\n",
    "plot.show(band3, ax=ax2, cmap='Greens')\n",
    "plot.show(band4, ax=ax3, cmap='Reds')\n",
    "fig.tight_layout()"
   ]
  },
  {
   "cell_type": "code",
   "execution_count": null,
   "metadata": {},
   "outputs": [],
   "source": [
    "#export true color image\n",
    "trueColor = rasterio.open('../Output/SentinelTrueColor2.tiff','w',driver='Gtiff',\n",
    "                         width=band4.width, height=band4.height,\n",
    "                         count=3,\n",
    "                         crs=band4.crs,\n",
    "                         transform=band4.transform,\n",
    "                         dtype=band4.dtypes[0]\n",
    "                         )\n",
    "trueColor.write(band2.read(1),3) #blue\n",
    "trueColor.write(band3.read(1),2) #green\n",
    "trueColor.write(band4.read(1),1) #red\n",
    "trueColor.close()"
   ]
  },
  {
   "cell_type": "code",
   "execution_count": null,
   "metadata": {},
   "outputs": [],
   "source": [
    "src = rasterio.open(r\"../Output/SentinelTrueColor2.tiff\", count=3)\n",
    "plot.show(src)"
   ]
  },
  {
   "cell_type": "code",
   "execution_count": null,
   "metadata": {},
   "outputs": [],
   "source": [
    "#export false color image\n",
    "falseColor = rasterio.open('../Output/SentinelFalseColor.tiff', 'w', driver='Gtiff',\n",
    "                          width=band2.width, height=band2.height,\n",
    "                          count=3,\n",
    "                          crs=band2.crs,\n",
    "                          transform=band2.transform,\n",
    "                          dtype='uint16'                   \n",
    "                         )\n",
    "falseColor.write(band3.read(1),3) #Blue\n",
    "falseColor.write(band4.read(1),2) #Green\n",
    "falseColor.write(band8.read(1),1) #Red\n",
    "falseColor.close()"
   ]
  },
  {
   "cell_type": "code",
   "execution_count": null,
   "metadata": {},
   "outputs": [],
   "source": [
    "#generate histogram\n",
    "trueColor = rasterio.open('../Output/SentinelTrueColor2.tiff')\n",
    "plot.show_hist(trueColor, bins=50, lw=0.0, stacked=False, alpha=0.3, histtype='stepfilled', title=\"Histogram\")"
   ]
  }
 ],
 "metadata": {
  "kernelspec": {
   "display_name": "Python 3",
   "language": "python",
   "name": "python3"
  },
  "language_info": {
   "codemirror_mode": {
    "name": "ipython",
    "version": 3
   },
   "file_extension": ".py",
   "mimetype": "text/x-python",
   "name": "python",
   "nbconvert_exporter": "python",
   "pygments_lexer": "ipython3",
   "version": "3.7.0"
  }
 },
 "nbformat": 4,
 "nbformat_minor": 2
}
